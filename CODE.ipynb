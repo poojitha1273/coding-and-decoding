{
 "cells": [
  {
   "cell_type": "code",
   "execution_count": null,
   "id": "7bd45374",
   "metadata": {},
   "outputs": [],
   "source": [
    "import sys\n",
    "\n",
    "def generating_keys(max_keys_length) :\n",
    "    keys = [ ]\n",
    "    for i in range(1, max_keys_length):\n",
    "        for j in range(2 ** i - 1) :    \n",
    "            if bin(j)[2 :] != '1' * i :\n",
    "                keys.append(bin(j)[2 :].zfill(i))\n",
    "    return keys \n",
    "\n",
    "\n",
    "def assigning_keys(header, max_keys_length) :\n",
    "    key_to_char = { }\n",
    "    keys = generating_keys(max_keys_length)\n",
    "    for i in range(len(header)) :\n",
    "        key_to_char[keys[i]] = header[i]\n",
    "    return key_to_char\n",
    "\n",
    "\n",
    "def decode_message(encoded_message,length) :                          #the encoded message will be decoded in this function\n",
    "    key_to_char = assigning_keys(header, max_keys_length)               \n",
    "    decoded_message = \"\"\n",
    "    key_length = int(encoded_message[: 3], 2)                         #takes first digits from the encoded msg as key_length in decimal form\n",
    "    while key_length != 0 :\n",
    "        while encoded_message[length : length + key_length] != \"1\" * key_length :\n",
    "            key=encoded_message[length : length + key_length]         #\n",
    "            decoded_message += key_to_char[key]\n",
    "            length += key_length\n",
    "        length += key_length\n",
    "        key_length = int(encoded_message[length : length + 3], 2)\n",
    "        length += 3\n",
    "    return decoded_message\n",
    "\n",
    "max_keys_length = 8\n",
    "length = 3\n",
    "header = \"\"\n",
    "encoded_message = \"\"\n",
    "for i in range(1, len(sys.argv)) :                              # arguments will be taken from the command line\n",
    "    if \"0\" not in sys.argv[i] :                                 #checks whether 0 is there in the command line or not\n",
    "        header = header + sys.argv[i]  +  \" \"                   #if it is not a zero then the argument will be taken as the header\n",
    "    elif \"0\" in sys.argv[i] :                                         \n",
    "        encoded_message = encoded_message + sys.argv[i]         #if 0 is there in the arguments ,then the argument will be taken as the encoded message\n",
    "\n",
    "\n",
    "print(decode_message(encoded_message, length))"
   ]
  }
 ],
 "metadata": {
  "kernelspec": {
   "display_name": "Python 3 (ipykernel)",
   "language": "python",
   "name": "python3"
  },
  "language_info": {
   "codemirror_mode": {
    "name": "ipython",
    "version": 3
   },
   "file_extension": ".py",
   "mimetype": "text/x-python",
   "name": "python",
   "nbconvert_exporter": "python",
   "pygments_lexer": "ipython3",
   "version": "3.9.13"
  }
 },
 "nbformat": 4,
 "nbformat_minor": 5
}
